{
 "cells": [
  {
   "cell_type": "code",
   "execution_count": null,
   "metadata": {},
   "outputs": [],
   "source": [
    "import numpy as np\n",
    "import matplotlib.pyplot as plt\n",
    "from sklearn.linear_model import LinearRegression\n",
    "import statsmodels.api as sm\n",
    "import pandas as pd"
   ]
  },
  {
   "cell_type": "markdown",
   "metadata": {},
   "source": [
    "### Nous ferons ici une analyse économétrique des données comme vu dans les cours de l'ensae. "
   ]
  },
  {
   "cell_type": "code",
   "execution_count": 30,
   "metadata": {},
   "outputs": [],
   "source": [
    "file_path='Romain_Scrapping/offres_emploi_concatene_cleaned.csv'\n",
    "\n",
    "# Nombre attendu de colonnes\n",
    "expected_columns = 11\n",
    "\n",
    "# Fonction personnalisée pour lire le fichier\n",
    "def filter_csv(file_path, delimiter=','):\n",
    "    with open(file_path, 'r') as file:\n",
    "        filtered_rows = []\n",
    "        for line in file:\n",
    "            row = line.strip().split(delimiter)\n",
    "            if len(row) == expected_columns:\n",
    "                filtered_rows.append(row)\n",
    "    return pd.DataFrame(filtered_rows)\n",
    "\n",
    "# Chargement et affichage des données filtrées\n",
    "data = filter_csv(file_path)\n",
    "\n",
    "#Nomer les colonnes\n",
    "data.columns = data.iloc[0]\n",
    "data = data.drop(0).reset_index(drop=True)"
   ]
  },
  {
   "cell_type": "markdown",
   "metadata": {},
   "source": [
    "### Regression sur les études et l'experiance"
   ]
  },
  {
   "cell_type": "code",
   "execution_count": 31,
   "metadata": {},
   "outputs": [
    {
     "name": "stderr",
     "output_type": "stream",
     "text": [
      "/tmp/ipykernel_8207/1271999039.py:3: SettingWithCopyWarning: \n",
      "A value is trying to be set on a copy of a slice from a DataFrame.\n",
      "Try using .loc[row_indexer,col_indexer] = value instead\n",
      "\n",
      "See the caveats in the documentation: https://pandas.pydata.org/pandas-docs/stable/user_guide/indexing.html#returning-a-view-versus-a-copy\n",
      "  data_exp_etude['salaire_annuel'] = pd.to_numeric(data_exp_etude['salaire_annuel'], errors='coerce')\n",
      "/tmp/ipykernel_8207/1271999039.py:4: SettingWithCopyWarning: \n",
      "A value is trying to be set on a copy of a slice from a DataFrame.\n",
      "Try using .loc[row_indexer,col_indexer] = value instead\n",
      "\n",
      "See the caveats in the documentation: https://pandas.pydata.org/pandas-docs/stable/user_guide/indexing.html#returning-a-view-versus-a-copy\n",
      "  data_exp_etude['etude_requise'] = pd.to_numeric(data_exp_etude['etude_requise'], errors='coerce')\n",
      "/tmp/ipykernel_8207/1271999039.py:5: SettingWithCopyWarning: \n",
      "A value is trying to be set on a copy of a slice from a DataFrame.\n",
      "Try using .loc[row_indexer,col_indexer] = value instead\n",
      "\n",
      "See the caveats in the documentation: https://pandas.pydata.org/pandas-docs/stable/user_guide/indexing.html#returning-a-view-versus-a-copy\n",
      "  data_exp_etude['experience_requise'] = pd.to_numeric(data_exp_etude['experience_requise'], errors='coerce')\n"
     ]
    }
   ],
   "source": [
    "data_exp_etude = data[['salaire_annuel', 'etude_requise' , 'experience_requise']]\n",
    "\n",
    "data_exp_etude['salaire_annuel'] = pd.to_numeric(data_exp_etude['salaire_annuel'], errors='coerce')\n",
    "data_exp_etude['etude_requise'] = pd.to_numeric(data_exp_etude['etude_requise'], errors='coerce')\n",
    "data_exp_etude['experience_requise'] = pd.to_numeric(data_exp_etude['experience_requise'], errors='coerce')\n",
    "\n",
    "# Supprimer les lignes contenant des valeurs manquantes\n",
    "data_exp_etude = data_exp_etude.dropna(axis=0, how='any')"
   ]
  },
  {
   "cell_type": "code",
   "execution_count": 32,
   "metadata": {},
   "outputs": [
    {
     "name": "stdout",
     "output_type": "stream",
     "text": [
      "                            OLS Regression Results                            \n",
      "==============================================================================\n",
      "Dep. Variable:         salaire_annuel   R-squared:                       0.352\n",
      "Model:                            OLS   Adj. R-squared:                  0.352\n",
      "Method:                 Least Squares   F-statistic:                     3092.\n",
      "Date:                Thu, 26 Dec 2024   Prob (F-statistic):               0.00\n",
      "Time:                        08:45:52   Log-Likelihood:            -1.1969e+05\n",
      "No. Observations:               11371   AIC:                         2.394e+05\n",
      "Df Residuals:                   11368   BIC:                         2.394e+05\n",
      "Df Model:                           2                                         \n",
      "Covariance Type:            nonrobust                                         \n",
      "======================================================================================\n",
      "                         coef    std err          t      P>|t|      [0.025      0.975]\n",
      "--------------------------------------------------------------------------------------\n",
      "const               1.461e+04    262.116     55.756      0.000    1.41e+04    1.51e+04\n",
      "etude_requise       2644.6868     50.561     52.307      0.000    2545.579    2743.794\n",
      "experience_requise   160.5902      3.820     42.043      0.000     153.103     168.077\n",
      "==============================================================================\n",
      "Omnibus:                     6589.791   Durbin-Watson:                   1.556\n",
      "Prob(Omnibus):                  0.000   Jarque-Bera (JB):           265458.334\n",
      "Skew:                           2.150   Prob(JB):                         0.00\n",
      "Kurtosis:                      26.276   Cond. No.                         91.6\n",
      "==============================================================================\n",
      "\n",
      "Notes:\n",
      "[1] Standard Errors assume that the covariance matrix of the errors is correctly specified.\n"
     ]
    }
   ],
   "source": [
    "X = data_exp_etude[['etude_requise' , 'experience_requise']]\n",
    "y = data_exp_etude[['salaire_annuel']]\n",
    "\n",
    "# Initialisation et entraînement du modèle\n",
    "model = LinearRegression()\n",
    "model.fit(X, y)\n",
    "\n",
    "X_with_const = sm.add_constant(X)  # Ajout de l'interception\n",
    "model_stats = sm.OLS(y, X_with_const)  # Création du modèle\n",
    "results = model_stats.fit()  # Ajustement du modèle\n",
    "\n",
    "# Résumé détaillé\n",
    "print(results.summary())"
   ]
  },
  {
   "cell_type": "markdown",
   "metadata": {},
   "source": [
    "Les résultats de la régression montrent que le niveau d'études requis et l'expérience exigée ont un impact significatif sur le salaire annuel. Le modèle explique 35,2 % de la variance du salaire, avec des coefficients positifs pour les deux variables : chaque niveau d'études supplémentaire augmente le salaire de 2 644,69 €, et chaque année d'expérience ajoutée augmente le salaire de 160,59 €. Les tests statistiques montrent que ces effets sont statistiquement significatifs. "
   ]
  }
 ],
 "metadata": {
  "kernelspec": {
   "display_name": "Python 3",
   "language": "python",
   "name": "python3"
  },
  "language_info": {
   "codemirror_mode": {
    "name": "ipython",
    "version": 3
   },
   "file_extension": ".py",
   "mimetype": "text/x-python",
   "name": "python",
   "nbconvert_exporter": "python",
   "pygments_lexer": "ipython3",
   "version": "3.11.2"
  }
 },
 "nbformat": 4,
 "nbformat_minor": 2
}
