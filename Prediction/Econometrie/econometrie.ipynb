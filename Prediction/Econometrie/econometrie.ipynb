{
 "cells": [
  {
   "cell_type": "code",
   "execution_count": 8,
   "metadata": {},
   "outputs": [],
   "source": [
    "import numpy as np\n",
    "import pandas as pd\n",
    "\n",
    "import statsmodels.api as sm\n",
    "from sklearn.linear_model import LinearRegression\n",
    "from sklearn.linear_model import Lasso\n",
    "from sklearn.model_selection import train_test_split\n",
    "\n",
    "pd.options.mode.chained_assignment = None "
   ]
  },
  {
   "cell_type": "markdown",
   "metadata": {},
   "source": [
    "### Nous ferons ici une analyse économétrique des données comme vu dans les cours de l'ensae. "
   ]
  },
  {
   "cell_type": "code",
   "execution_count": 21,
   "metadata": {},
   "outputs": [
    {
     "data": {
      "text/html": [
       "<div>\n",
       "<style scoped>\n",
       "    .dataframe tbody tr th:only-of-type {\n",
       "        vertical-align: middle;\n",
       "    }\n",
       "\n",
       "    .dataframe tbody tr th {\n",
       "        vertical-align: top;\n",
       "    }\n",
       "\n",
       "    .dataframe thead th {\n",
       "        text-align: right;\n",
       "    }\n",
       "</style>\n",
       "<table border=\"1\" class=\"dataframe\">\n",
       "  <thead>\n",
       "    <tr style=\"text-align: right;\">\n",
       "      <th></th>\n",
       "      <th>intitule</th>\n",
       "      <th>source</th>\n",
       "      <th>departement</th>\n",
       "      <th>salaire_annuel</th>\n",
       "      <th>etude_requise</th>\n",
       "      <th>experience_requise</th>\n",
       "      <th>contrat</th>\n",
       "      <th>romeCode_extract</th>\n",
       "      <th>tps_Pp</th>\n",
       "      <th>secteur_activite</th>\n",
       "      <th>qualificationCode</th>\n",
       "    </tr>\n",
       "  </thead>\n",
       "  <tbody>\n",
       "    <tr>\n",
       "      <th>0</th>\n",
       "      <td>Administrateur systèmes et réseaux informatiqu...</td>\n",
       "      <td>Informatique</td>\n",
       "      <td>41.0</td>\n",
       "      <td>38000.0</td>\n",
       "      <td>5.0</td>\n",
       "      <td>24.0</td>\n",
       "      <td>2</td>\n",
       "      <td>M18</td>\n",
       "      <td>1.0</td>\n",
       "      <td>78.0</td>\n",
       "      <td>8.0</td>\n",
       "    </tr>\n",
       "    <tr>\n",
       "      <th>1</th>\n",
       "      <td>Technicien informatique F/H</td>\n",
       "      <td>Informatique</td>\n",
       "      <td>69.0</td>\n",
       "      <td>24238.0</td>\n",
       "      <td>NaN</td>\n",
       "      <td>12.0</td>\n",
       "      <td>2</td>\n",
       "      <td>H11</td>\n",
       "      <td>1.0</td>\n",
       "      <td>78.0</td>\n",
       "      <td>6.0</td>\n",
       "    </tr>\n",
       "    <tr>\n",
       "      <th>2</th>\n",
       "      <td>Ingénieur de production/exploitation informati...</td>\n",
       "      <td>Informatique</td>\n",
       "      <td>41.0</td>\n",
       "      <td>35000.0</td>\n",
       "      <td>5.0</td>\n",
       "      <td>60.0</td>\n",
       "      <td>2</td>\n",
       "      <td>M18</td>\n",
       "      <td>1.0</td>\n",
       "      <td>78.0</td>\n",
       "      <td>9.0</td>\n",
       "    </tr>\n",
       "    <tr>\n",
       "      <th>3</th>\n",
       "      <td>Technicien informatique (H/F)</td>\n",
       "      <td>Informatique</td>\n",
       "      <td>NaN</td>\n",
       "      <td>27000.0</td>\n",
       "      <td>5.0</td>\n",
       "      <td>0.0</td>\n",
       "      <td>0</td>\n",
       "      <td>I14</td>\n",
       "      <td>1.0</td>\n",
       "      <td>66.0</td>\n",
       "      <td>5.0</td>\n",
       "    </tr>\n",
       "    <tr>\n",
       "      <th>4</th>\n",
       "      <td>Chef de projet réseau informatique (H/F)</td>\n",
       "      <td>Informatique</td>\n",
       "      <td>74.0</td>\n",
       "      <td>45000.0</td>\n",
       "      <td>NaN</td>\n",
       "      <td>132.0</td>\n",
       "      <td>0</td>\n",
       "      <td>M18</td>\n",
       "      <td>1.0</td>\n",
       "      <td>78.0</td>\n",
       "      <td>2.0</td>\n",
       "    </tr>\n",
       "  </tbody>\n",
       "</table>\n",
       "</div>"
      ],
      "text/plain": [
       "                                            intitule        source  \\\n",
       "0  Administrateur systèmes et réseaux informatiqu...  Informatique   \n",
       "1                        Technicien informatique F/H  Informatique   \n",
       "2  Ingénieur de production/exploitation informati...  Informatique   \n",
       "3                      Technicien informatique (H/F)  Informatique   \n",
       "4           Chef de projet réseau informatique (H/F)  Informatique   \n",
       "\n",
       "   departement  salaire_annuel  etude_requise  experience_requise  contrat  \\\n",
       "0         41.0         38000.0            5.0                24.0        2   \n",
       "1         69.0         24238.0            NaN                12.0        2   \n",
       "2         41.0         35000.0            5.0                60.0        2   \n",
       "3          NaN         27000.0            5.0                 0.0        0   \n",
       "4         74.0         45000.0            NaN               132.0        0   \n",
       "\n",
       "  romeCode_extract  tps_Pp  secteur_activite  qualificationCode  \n",
       "0              M18     1.0              78.0                8.0  \n",
       "1              H11     1.0              78.0                6.0  \n",
       "2              M18     1.0              78.0                9.0  \n",
       "3              I14     1.0              66.0                5.0  \n",
       "4              M18     1.0              78.0                2.0  "
      ]
     },
     "execution_count": 21,
     "metadata": {},
     "output_type": "execute_result"
    }
   ],
   "source": [
    "file_path=r'..\\..\\Recuperation_data\\France_Travail\\offres_emploi_concatene_cleaned.csv'\n",
    "data = pd.read_csv(r'..\\..\\Recuperation_data\\France_Travail\\offres_emploi_concatene_cleaned.csv')\n",
    "data.head()"
   ]
  },
  {
   "cell_type": "markdown",
   "metadata": {},
   "source": [
    "### Regression sur les études et l'experiance"
   ]
  },
  {
   "cell_type": "code",
   "execution_count": 22,
   "metadata": {},
   "outputs": [],
   "source": [
    "data_exp_etude = data[['salaire_annuel', 'etude_requise' , 'experience_requise']]\n",
    "\n",
    "data_exp_etude['salaire_annuel'] = pd.to_numeric(data_exp_etude['salaire_annuel'], errors='coerce')\n",
    "data_exp_etude['etude_requise'] = pd.to_numeric(data_exp_etude['etude_requise'], errors='coerce')\n",
    "data_exp_etude['experience_requise'] = pd.to_numeric(data_exp_etude['experience_requise'], errors='coerce')\n",
    "\n",
    "# Supprimer les lignes contenant des valeurs manquantes\n",
    "data_exp_etude = data_exp_etude.dropna(axis=0, how='any')"
   ]
  },
  {
   "cell_type": "code",
   "execution_count": 23,
   "metadata": {},
   "outputs": [
    {
     "name": "stdout",
     "output_type": "stream",
     "text": [
      "                            OLS Regression Results                            \n",
      "==============================================================================\n",
      "Dep. Variable:         salaire_annuel   R-squared:                       0.353\n",
      "Model:                            OLS   Adj. R-squared:                  0.353\n",
      "Method:                 Least Squares   F-statistic:                     3160.\n",
      "Date:                Sun, 29 Dec 2024   Prob (F-statistic):               0.00\n",
      "Time:                        21:28:59   Log-Likelihood:            -1.2166e+05\n",
      "No. Observations:               11561   AIC:                         2.433e+05\n",
      "Df Residuals:                   11558   BIC:                         2.433e+05\n",
      "Df Model:                           2                                         \n",
      "Covariance Type:            nonrobust                                         \n",
      "======================================================================================\n",
      "                         coef    std err          t      P>|t|      [0.025      0.975]\n",
      "--------------------------------------------------------------------------------------\n",
      "const               1.464e+04    259.398     56.435      0.000    1.41e+04    1.51e+04\n",
      "etude_requise       2636.9959     50.026     52.712      0.000    2538.936    2735.055\n",
      "experience_requise   160.8673      3.775     42.610      0.000     153.467     168.268\n",
      "==============================================================================\n",
      "Omnibus:                     6679.111   Durbin-Watson:                   1.556\n",
      "Prob(Omnibus):                  0.000   Jarque-Bera (JB):           268003.568\n",
      "Skew:                           2.142   Prob(JB):                         0.00\n",
      "Kurtosis:                      26.195   Cond. No.                         91.8\n",
      "==============================================================================\n",
      "\n",
      "Notes:\n",
      "[1] Standard Errors assume that the covariance matrix of the errors is correctly specified.\n"
     ]
    }
   ],
   "source": [
    "X = data_exp_etude[['etude_requise' , 'experience_requise']]\n",
    "y = data_exp_etude[['salaire_annuel']]\n",
    "\n",
    "# Initialisation et entraînement du modèle\n",
    "model = LinearRegression()\n",
    "model.fit(X, y)\n",
    "\n",
    "X_with_const = sm.add_constant(X)  # Ajout de l'interception\n",
    "model_stats = sm.OLS(y, X_with_const)  # Création du modèle\n",
    "results = model_stats.fit()  # Ajustement du modèle\n",
    "\n",
    "# Résumé détaillé\n",
    "print(results.summary())"
   ]
  },
  {
   "cell_type": "markdown",
   "metadata": {},
   "source": [
    "Les résultats de la régression montrent que le niveau d'études requis et l'expérience exigée ont un impact significatif sur le salaire annuel. Le modèle explique 35,2 % de la variance du salaire, avec des coefficients positifs pour les deux variables : chaque niveau d'études supplémentaire augmente le salaire de 2 644,69 €, et chaque année d'expérience ajoutée augmente le salaire de 160,59 €. Les tests statistiques montrent que ces effets sont statistiquement significatifs. "
   ]
  },
  {
   "cell_type": "markdown",
   "metadata": {},
   "source": [
    "### Regression général"
   ]
  },
  {
   "cell_type": "code",
   "execution_count": 24,
   "metadata": {},
   "outputs": [],
   "source": [
    "data_reg = data[['salaire_annuel', 'etude_requise' , 'experience_requise', 'source','departement','contrat','secteur_activite']]\n",
    "\n",
    "data_reg['salaire_annuel'] = pd.to_numeric(data_reg['salaire_annuel'], errors='coerce')\n",
    "data_reg['etude_requise'] = pd.to_numeric(data_reg['etude_requise'], errors='coerce')\n",
    "data_reg['experience_requise'] = pd.to_numeric(data_reg['experience_requise'], errors='coerce')\n",
    "\n",
    "data_reg = pd.get_dummies(data_reg, columns=['source','departement','contrat','secteur_activite'], dtype=int)\n",
    "# Supprimer les lignes contenant des valeurs manquantes\n",
    "data_reg= data_reg.dropna(axis=0, how='any')"
   ]
  },
  {
   "cell_type": "code",
   "execution_count": 25,
   "metadata": {},
   "outputs": [],
   "source": [
    "cols = data_reg.columns.tolist()\n",
    "cols.remove('salaire_annuel')\n",
    "\n",
    "X = data_reg[cols]\n",
    "y = data_reg[['salaire_annuel']]\n",
    "\n",
    "# Initialisation et entraînement du modèle\n",
    "model = LinearRegression()\n",
    "model.fit(X, y)\n",
    "\n",
    "X_with_const = sm.add_constant(X)  # Ajout de l'interception\n",
    "model_stats = sm.OLS(y, X_with_const)  # Création du modèle\n",
    "results = model_stats.fit()  # Ajustement du modèle\n",
    "\n",
    "with open(\"OLS_results_summary.txt\", \"w\") as file:\n",
    "    file.write(results.summary().as_text())"
   ]
  },
  {
   "cell_type": "markdown",
   "metadata": {},
   "source": [
    "# Partie prédictive"
   ]
  },
  {
   "cell_type": "code",
   "execution_count": 26,
   "metadata": {},
   "outputs": [
    {
     "name": "stdout",
     "output_type": "stream",
     "text": [
      "Coefficients du modèle : [ 2.04995538e+03  1.46114963e+02 -1.19855050e+03 -2.54558214e+03\n",
      "  4.03561316e+03 -3.79772629e+03 -1.25380949e+03  6.09140126e+02\n",
      "  5.73785641e+03 -1.47038262e+03 -8.04241839e+02  2.88887535e+02\n",
      "  8.90491789e+02  6.26781370e+02  6.47011679e+02  7.85766783e+02\n",
      " -1.14165296e+03  7.56145867e+02 -5.51157975e+02 -1.17370852e+03\n",
      " -8.04458504e+03  0.00000000e+00 -9.91623111e+03 -2.15628308e+03\n",
      " -5.97548644e+03 -6.56750248e+03 -4.89411930e+03 -6.53720115e+03\n",
      "  0.00000000e+00 -8.67417680e+03 -5.31939768e+03 -7.35465682e+03\n",
      " -5.83582994e+03 -7.00975140e+03 -8.32272213e+03 -5.87134390e+03\n",
      " -8.07387103e+03 -6.16496439e+03 -7.46451345e+03 -6.78465326e+03\n",
      " -6.48876839e+03 -7.84141359e+03 -6.97163451e+03 -5.66668548e+03\n",
      " -6.97424463e+03 -5.91626110e+03 -7.32453687e+03 -7.53558463e+03\n",
      " -7.80065559e+03 -8.83786638e+03 -6.97078146e+03 -5.51398934e+03\n",
      " -6.04516437e+03 -6.65730226e+03 -6.00757942e+03 -8.34953161e+03\n",
      " -4.66050760e+03 -6.21869231e+03 -7.00959399e+03 -5.99768618e+03\n",
      " -6.56513428e+03 -6.34595380e+03 -9.28126591e+03 -5.95840048e+03\n",
      " -6.56745683e+03 -5.76919432e+03 -5.80824594e+03 -5.13072297e+03\n",
      " -6.84237908e+03 -6.64778120e+03 -7.96613622e+03 -6.58313664e+03\n",
      " -8.24374080e+03 -6.75085037e+03 -8.10067606e+03 -7.26470985e+03\n",
      " -5.77200578e+03 -5.45199026e+03 -7.86750341e+03 -6.53966190e+03\n",
      " -7.76249659e+03 -7.54395256e+03 -7.11385014e+03 -5.50608408e+03\n",
      " -6.74959740e+03 -8.23016993e+03 -7.40890403e+03 -6.54701424e+03\n",
      " -6.11604630e+03 -8.65048168e+03 -6.47624162e+03 -8.48703363e+03\n",
      " -6.71983517e+03 -4.81928627e+03 -3.73627484e+03 -6.94509188e+03\n",
      " -5.68093212e+03 -4.69656592e+03 -4.83565946e+03 -8.51908213e+03\n",
      " -8.21888001e+03 -5.22886010e+03 -6.22068860e+03 -8.45341524e+03\n",
      " -8.58613920e+03 -7.09143805e+03 -7.04201242e+03 -8.09990138e+03\n",
      " -5.10413710e+03 -6.30617926e+03 -5.82185487e+03 -4.32117302e+03\n",
      " -5.48742115e+03 -4.08339482e+03 -5.63102861e+03  0.00000000e+00\n",
      " -8.14843724e+03  7.57162923e+03  1.48019331e+03 -1.22489681e+03\n",
      " -2.03295993e+03  2.84810008e+03  4.65127431e+03  2.13584510e+04\n",
      "  0.00000000e+00  3.79997418e+02  0.00000000e+00  0.00000000e+00\n",
      "  0.00000000e+00 -2.31833770e+03  4.18878239e+03  0.00000000e+00\n",
      "  0.00000000e+00  0.00000000e+00  0.00000000e+00  8.36534552e+03\n",
      " -5.06267577e+03 -8.45819482e+03  1.48581438e+02 -1.11120881e+04\n",
      "  2.48800543e+03 -7.68076844e+03  1.53384629e+03 -4.51080081e+03\n",
      "  0.00000000e+00  1.52594013e+03  2.16790024e+03 -2.25732571e+03\n",
      "  5.75494797e+02  1.06336910e+04  5.61288267e+03  1.66198315e+03\n",
      " -8.88200159e+01 -8.66772612e+02  5.08328879e+02  3.17428825e+03\n",
      " -4.30448787e+03 -2.62495351e+01  1.05546300e+03  1.35135770e+02\n",
      " -3.29510318e+03 -3.10253800e+03 -4.05447631e+03 -1.62717382e+03\n",
      " -7.01687312e+03 -6.94443712e+02 -1.38199023e+03 -2.35403742e+03\n",
      " -1.71054673e+03 -2.33823865e+03 -2.00325712e+03  2.47184816e+03\n",
      " -2.17491958e+03 -1.22931045e+03  1.07707558e+04 -2.96254586e+03\n",
      " -2.64020024e+03 -6.14325089e+02 -2.45277214e+02 -0.00000000e+00\n",
      " -6.05839146e+03  9.69837482e+02 -3.66063387e+03 -2.74137525e+03\n",
      " -1.81664867e+03 -3.82344627e+03 -9.61557978e+02 -2.58821306e+03\n",
      " -8.24395498e+02 -3.46861301e+03 -3.15805954e+03  7.94672063e+02\n",
      " -2.53835792e+03 -6.44343388e+03 -8.69171419e+02 -1.81232731e+03\n",
      " -4.45268412e+03 -3.21746766e+03 -5.17803248e+03 -2.71538445e+03\n",
      " -3.62124508e+03 -4.54635678e+03 -1.47013021e+03 -3.42266629e+03\n",
      " -5.17500875e+03 -6.15853026e+03 -5.75955333e+03  4.93502996e+03\n",
      " -4.97074853e+03 -6.04105560e+03 -7.33636017e+03 -7.09196596e+02\n",
      "  4.25197303e+04  1.05933370e+04]\n",
      "Biais (intercept) : [25947.89046183]\n"
     ]
    },
    {
     "name": "stderr",
     "output_type": "stream",
     "text": [
      "c:\\Users\\User\\AppData\\Local\\Programs\\Python\\Python313\\Lib\\site-packages\\sklearn\\linear_model\\_coordinate_descent.py:695: ConvergenceWarning: Objective did not converge. You might want to increase the number of iterations, check the scale of the features or consider increasing regularisation. Duality gap: 5.012e+10, tolerance: 1.079e+08\n",
      "  model = cd_fast.enet_coordinate_descent(\n"
     ]
    }
   ],
   "source": [
    "# Division des données en ensembles d'entraînement et de test\n",
    "X_train, X_test, y_train, y_test = train_test_split(X, y, test_size=0.25, random_state=42)\n",
    "\n",
    "# Création du modèle Lasso\n",
    "alpha_value = 0.1  # Force de la régularisation\n",
    "lasso_model = Lasso(alpha=alpha_value)\n",
    "\n",
    "# Entraînement du modèle\n",
    "lasso_model.fit(X_train, y_train)\n",
    "\n",
    "# Prédictions\n",
    "y_pred = lasso_model.predict(X_test)\n",
    "\n",
    "# Affichage des coefficients\n",
    "print(\"Coefficients du modèle :\", lasso_model.coef_)\n",
    "print(\"Biais (intercept) :\", lasso_model.intercept_)"
   ]
  },
  {
   "cell_type": "code",
   "execution_count": 27,
   "metadata": {},
   "outputs": [
    {
     "name": "stdout",
     "output_type": "stream",
     "text": [
      "Mean Absolute Percentage Error (MAPE): 33.18043679065281\n"
     ]
    }
   ],
   "source": [
    "# Calcul du Mean Absolute Percentage Error (MAPE)\n",
    "mape = np.mean(np.abs((np.array(y_test) - y_pred) / np.array(y_test)).flatten()) * 100\n",
    "print(\"Mean Absolute Percentage Error (MAPE):\", mape)"
   ]
  }
 ],
 "metadata": {
  "kernelspec": {
   "display_name": "Python 3",
   "language": "python",
   "name": "python3"
  },
  "language_info": {
   "codemirror_mode": {
    "name": "ipython",
    "version": 3
   },
   "file_extension": ".py",
   "mimetype": "text/x-python",
   "name": "python",
   "nbconvert_exporter": "python",
   "pygments_lexer": "ipython3",
   "version": "3.13.1"
  }
 },
 "nbformat": 4,
 "nbformat_minor": 2
}
