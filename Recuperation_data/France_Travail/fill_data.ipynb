{
 "cells": [
  {
   "cell_type": "markdown",
   "metadata": {},
   "source": [
    "# On import les bibliotheques et le dataframe"
   ]
  },
  {
   "cell_type": "code",
   "execution_count": 1,
   "metadata": {},
   "outputs": [],
   "source": [
    "import numpy as np\n",
    "import pandas as pd\n",
    "import re\n",
    "import unidecode"
   ]
  },
  {
   "cell_type": "code",
   "execution_count": 2,
   "metadata": {},
   "outputs": [],
   "source": [
    "df = pd.read_csv('offres_emploi_concatene_raw.csv')"
   ]
  },
  {
   "cell_type": "markdown",
   "metadata": {},
   "source": [
    "# On crée notre dictionnaire qui va nous servir pour convertir nos chiffre en str qui ont du sens"
   ]
  },
  {
   "cell_type": "code",
   "execution_count": 3,
   "metadata": {},
   "outputs": [],
   "source": [
    "etude_num_2_str_dict  = {\n",
    "    0 : \"Aucune formation\",\n",
    "    1 : \"4eme achevee\",\n",
    "    2 : \"3eme achevee ou Brevet\",\n",
    "    3 : \"CAP, BEP ou equivalent\",\n",
    "    4 : \"Bac ou equivalent\",\n",
    "    5 : \"Bac +2 ou equivalent\",\n",
    "    6 : \"Bac +3 ou equivalent\",\n",
    "    7 : \"Bac +4 ou equivalent\",\n",
    "    8 : \"Bac +5 ou equivalent\"\n",
    "}\n",
    "\n",
    "typeContrat_num_2_str_dict = {\n",
    "    0 : 'CDI',\n",
    "    1 : 'CDD',\n",
    "    2 : 'MIS', \n",
    "    3 : 'DIN', \n",
    "    4 : 'CCE', \n",
    "    5 : 'LIB', \n",
    "    6 : 'FRA', \n",
    "    7 : 'SAI', \n",
    "    8 : 'REP', \n",
    "    9 : 'DDI', \n",
    "    10 : 'TTI'\n",
    "}\n",
    "\n",
    "tps_Pp_num_2_str_dict = {\n",
    "    0 : \"Temps partiel\",\n",
    "    1 : \"Temps plein\"\n",
    "    }"
   ]
  },
  {
   "cell_type": "markdown",
   "metadata": {},
   "source": [
    "# On \"standardise\" les colonnes, transformation en categorie représenté par un entier"
   ]
  },
  {
   "cell_type": "code",
   "execution_count": 4,
   "metadata": {},
   "outputs": [],
   "source": [
    "\n",
    "def fill_formation(niveau):\n",
    "    # Normalisation : suppression des accents et transformation en minuscules\n",
    "    if pd.isna(niveau): return None\n",
    "    niveau = str(niveau)\n",
    "    niveau = unidecode.unidecode(niveau.lower())\n",
    "    # Application des regex sur le texte normalisé\n",
    "    if re.search(r\"\\baucune\\b\", niveau):  \n",
    "        return 0\n",
    "    elif re.search(r\"\\b4eme\\b\", niveau):  \n",
    "        return 1\n",
    "    elif re.search(r\"\\b(3[\\s]*eme|brevet)\\b\", niveau):  \n",
    "        return 2\n",
    "    elif re.search(r\"\\b(cap|bep)\\b\", niveau):  \n",
    "        return 3\n",
    "    elif re.search(r\"\\b(bac|baccalaureat)\\b(?!\\s*\\+)\", niveau):  \n",
    "        return 4\n",
    "    elif re.search(r\"\\b(bac[\\s]*\\+[\\s]*2|licence [\\s]*2)\\b\", niveau):  \n",
    "        return 5\n",
    "    elif re.search(r\"\\b(bac[\\s]*\\+[\\s]*3|licence|licenses)\\b\", niveau):  \n",
    "        return 6\n",
    "    elif re.search(r\"\\b(bac[\\s]*\\+[\\s]*4|master[\\s]*1)\\b\", niveau):  \n",
    "        return 7\n",
    "    elif re.search(r\"\\b(master|master[\\s]*2|bac[\\s]*\\+[\\s]*5)\\b\", niveau):  \n",
    "        return 8\n",
    "    return None\n",
    "\n",
    "def fill_type_contrat(niveau):\n",
    "    if pd.isna(niveau):\n",
    "        return None\n",
    "    \n",
    "    elif niveau == 'CDI':\n",
    "        return 0\n",
    "    elif niveau == 'CDD':\n",
    "        return 1\n",
    "    elif niveau == 'MIS':\n",
    "        return 2\n",
    "    elif niveau == 'DIN':\n",
    "        return 3\n",
    "    elif niveau == 'CCE':\n",
    "        return 4\n",
    "    elif niveau == 'LIB':\n",
    "        return 5\n",
    "    elif niveau == 'FRA':\n",
    "        return 6\n",
    "    elif niveau == 'SAI':\n",
    "        return 7\n",
    "    elif niveau == 'REP':\n",
    "        return 8\n",
    "    elif niveau == 'DDI':\n",
    "        return 9\n",
    "    elif niveau == 'TTI':\n",
    "        return 10\n",
    "    else:\n",
    "        return None  #Si le type de contrat ne correspond pas\n",
    "    \n",
    "def fill_departement(row):\n",
    "    # Si lieuTravail.codePostal est rempli\n",
    "    if pd.notna(row['lieuTravail.codePostal']):\n",
    "        try:\n",
    "            return int(str(row['lieuTravail.codePostal'])[:2])  # Prend les 2 premiers caractères\n",
    "        except ValueError:\n",
    "            return None  # Si conversion en int échoue\n",
    "    \n",
    "    # Sinon, on vérifie lieuTravail.libelle\n",
    "    if pd.notna(row['lieuTravail.libelle']):\n",
    "        parts = row['lieuTravail.libelle'].split(' ')[0]  # Prend la première partie du libellé\n",
    "        if parts.isdigit():  # Vérifie si la partie est un nombre\n",
    "            return int(parts[:2])  # Retourne les 2 premiers caractères comme un entier\n",
    "    \n",
    "    return None\n",
    "\n",
    "def fill_experience(niveau):\n",
    "    if pd.isna(niveau):\n",
    "        return None\n",
    "    \n",
    "    niveau = str(niveau)\n",
    "    niveau = unidecode.unidecode(niveau.lower())\n",
    "    \n",
    "    #Débutant Ok\n",
    "    if re.search(r\"\\bdebutant\\b\", niveau):\n",
    "        return 0\n",
    "    \n",
    "    #Temps requis en année\n",
    "    elif re.search(r\"\\b(\\d+)\\s*(an|ans)\\b\", niveau):\n",
    "        match_annees = re.search(r\"\\b(\\d+)\\s*(an|ans)\\b\", niveau)\n",
    "        return int(match_annees.group(1)) * 12\n",
    "    \n",
    "    #Temps requis en mois\n",
    "    elif re.search(r\"\\b(\\d+)\\s*mois\\b\", niveau):\n",
    "        match_mois = re.search(r\"\\b(\\d+)\\s*mois\\b\", niveau)\n",
    "        return int(match_mois.group(1))\n",
    "        \n",
    "    else:\n",
    "        return None\n",
    "    \n",
    "def fill_romeCode(niveau):\n",
    "    # Vérifie si la valeur est NaN\n",
    "    if pd.isna(niveau):\n",
    "        return None\n",
    "    \n",
    "    # Convertit la valeur en chaîne de caractères\n",
    "    niveau = str(niveau)\n",
    "    \n",
    "    # Vérifie si la longueur de la chaîne est suffisante\n",
    "    if len(niveau) < 2:\n",
    "        return None  # Retourne None si la chaîne est trop courte\n",
    "    \n",
    "    # Retourne les deux premiers caractères\n",
    "    return niveau[:3]\n",
    "\n",
    "def fill_tps_Pp(niveau):\n",
    "    if pd.isna(niveau):\n",
    "        return None\n",
    "        \n",
    "    elif niveau == 'Temps plein':\n",
    "        return 1\n",
    "    elif niveau == 'Temps partiel':\n",
    "        return 0\n",
    "\n",
    "    return None\n",
    "\n",
    "def fill_salaire(salaire):\n",
    "    if pd.isna(salaire):  # Gérer les valeurs manquantes\n",
    "        return None\n",
    "\n",
    "    salaire = str(salaire).replace(\",\", \".\")  # Remplacer les virgules par des points\n",
    "    salaire = re.sub(r'(\\d+(\\.\\d+)?\\s?mois)', '', salaire, flags=re.IGNORECASE)  # Supprimer '12 mois', '13 mois', etc.\n",
    "\n",
    "    # Déterminer la catégorie : Horaire, Mensuel, Annuel\n",
    "    if \"horaire\" in salaire.lower():\n",
    "        category = \"horaire\"\n",
    "    elif \"mensuel\" in salaire.lower():\n",
    "        category = \"mensuel\"\n",
    "    elif \"annuel\" in salaire.lower():\n",
    "        category = \"annuel\"\n",
    "    else:\n",
    "        category = \"unknown\"  # Catégorie inconnue, on utilise la devinette\n",
    "\n",
    "    # Extraire les chiffres du salaire\n",
    "    numbers = [float(num) for num in re.findall(r'\\d+(?:\\.\\d+)?', salaire)]\n",
    "\n",
    "    if len(numbers) == 0:  # Aucune valeur numérique trouvée\n",
    "        return None\n",
    "    elif len(numbers) >= 3:  # Si trois chiffres trouvés, ne rien faire\n",
    "        return None\n",
    "    elif len(numbers) == 2:  # Deux chiffres trouvés, vérifier l'écart\n",
    "        lower, higher = sorted(numbers)\n",
    "        if higher / lower > 3:  # Si l'écart dépasse 12 fois, retourner None\n",
    "            return None\n",
    "        salary_value = sum(numbers) / 2  # Sinon, prendre la moyenne\n",
    "    else:  # Un seul chiffre trouvé\n",
    "        salary_value = numbers[0]\n",
    "\n",
    "    # Logique de devinette si la catégorie est inconnue\n",
    "    if category == \"unknown\":\n",
    "        if salary_value < 250:  # En dessous de 250, c'est horaire\n",
    "            category = \"horaire\"\n",
    "        elif 250 <= salary_value <= 5000:  # Entre 250 et 5000, c'est mensuel\n",
    "            category = \"mensuel\"\n",
    "        elif salary_value > 5000:  # Au-dessus de 5000, c'est annuel\n",
    "            category = \"annuel\"\n",
    "\n",
    "    # Conversion en salaire annuel\n",
    "    if category == \"horaire\":\n",
    "        return round(salary_value * 35 * 52)  # 35 heures/semaine * 52 semaines\n",
    "    elif category == \"mensuel\":\n",
    "        return round(salary_value * 12)  # 12 mois\n",
    "    elif category == \"annuel\":\n",
    "        return round(salary_value)  # Déjà en annuel\n",
    "    \n",
    "    return None\n",
    "\n",
    "def fill_secteur_activite(row):\n",
    "    # Si secteurActivite est rempli\n",
    "    if pd.notna(row['secteurActivite']):\n",
    "        return row['secteurActivite']\n",
    "    \n",
    "    # Sinon, on vérifie codeNAF\n",
    "    if pd.notna(row['codeNAF']):\n",
    "        code_naf = str(row['codeNAF'])\n",
    "        if code_naf[:2].isdigit():  # Vérifie si les 2 premiers caractères sont des chiffres\n",
    "            return int(code_naf[:2])  # Retourne les 2 premiers caractères comme un entier\n",
    "    \n",
    "    return None\n",
    "    \n"
   ]
  },
  {
   "cell_type": "code",
   "execution_count": 5,
   "metadata": {},
   "outputs": [],
   "source": [
    "df['departement'] = df.apply(fill_departement, axis=1)\n",
    "df['salaire_annuel'] = df['salaire.libelle'].apply(fill_salaire)\n",
    "df['etude_requise'] = df['formations.niveauLibelle'].apply(fill_formation)\n",
    "df['experience_requise'] = df['experienceLibelle'].apply(fill_experience)\n",
    "df[\"contrat\"] = df['typeContrat'].apply(fill_type_contrat)\n",
    "df['romeCode_extract'] = df[\"romeCode\"].apply(fill_romeCode)\n",
    "df['tps_Pp'] = df['dureeTravailLibelleConverti'].apply(fill_tps_Pp)\n",
    "df['secteur_activite'] = df.apply(fill_secteur_activite, axis=1)"
   ]
  },
  {
   "cell_type": "code",
   "execution_count": 6,
   "metadata": {},
   "outputs": [
    {
     "name": "stdout",
     "output_type": "stream",
     "text": [
      "Index(['intitule', 'lieuTravail.libelle', 'lieuTravail.codePostal', 'romeCode',\n",
      "       'secteurActivite', 'codeNAF', 'typeContrat', 'salaire.libelle',\n",
      "       'dureeTravailLibelleConverti', 'experienceLibelle',\n",
      "       'formations.niveauLibelle', 'qualificationCode', 'qualificationLibelle',\n",
      "       'description', 'source', 'departement', 'salaire_annuel',\n",
      "       'etude_requise', 'experience_requise', 'contrat', 'romeCode_extract',\n",
      "       'tps_Pp', 'secteur_activite'],\n",
      "      dtype='object')\n"
     ]
    }
   ],
   "source": [
    "print(df.columns)"
   ]
  },
  {
   "cell_type": "markdown",
   "metadata": {},
   "source": [
    "# On va ajuster manuellement les salaires trop haut et trop bas a cause des erreurs dans les offres..."
   ]
  },
  {
   "cell_type": "code",
   "execution_count": 7,
   "metadata": {},
   "outputs": [],
   "source": [
    "heures_par_semaine = 35\n",
    "semaines_par_an = 52\n",
    "heures_annuelles = heures_par_semaine * semaines_par_an\n",
    "heures_mensuelles = heures_annuelles / 12\n",
    "\n",
    "def ajuster_salaire(salaire):\n",
    "    # Correction pour les salaires trop élevés\n",
    "    if salaire > heures_annuelles * 10000:  # Salaire annuel qui a été mis en horaire\n",
    "        return salaire / heures_annuelles\n",
    "    elif heures_annuelles * 1000 < salaire <= heures_annuelles * 10000:  # Salaire mensuel transformé en horaire\n",
    "        return salaire / heures_mensuelles\n",
    "    elif 220000 < salaire <= heures_annuelles * 1000:  # Salaire annuel compté comme mensuel\n",
    "        return salaire / 12\n",
    "    \n",
    "    # Correction pour les salaires trop faibles\n",
    "    elif salaire < 110:  # Salaire horaire transformé en annuel\n",
    "        return salaire * heures_annuelles\n",
    "    elif 110 <= salaire <= 1000:  # Salaire horaire transformé en mensuel\n",
    "        return salaire * heures_mensuelles\n",
    "    elif 1000 <= salaire <= 3000:  # Salaire mensuel transformé en annuel\n",
    "        return salaire * 12\n",
    "\n",
    "    # Pas de transformation nécessaire\n",
    "    return salaire\n",
    "\n",
    "df['salaire_annuel'] = df['salaire_annuel'].apply(ajuster_salaire)"
   ]
  },
  {
   "cell_type": "markdown",
   "metadata": {},
   "source": [
    "# On va lire la description pour compléter les catégories avec des NaN:/ "
   ]
  },
  {
   "cell_type": "markdown",
   "metadata": {},
   "source": [
    "## Pour le salaire"
   ]
  },
  {
   "cell_type": "code",
   "execution_count": 8,
   "metadata": {},
   "outputs": [],
   "source": [
    "import re\n",
    "import unidecode\n",
    "\n",
    "def add_salary(description):\n",
    "    # Remplacement des symboles problématiques\n",
    "    description = description.replace('€', 'EUR')\n",
    "    description = description.replace(',', '.')\n",
    "    description = description.replace('¿', ' ')  # Remplace le symbole problématique\n",
    "    description = description.replace('*', '  ') # Remplace l'astérisque par deux espaces pour faire la coupure\n",
    "    description = description.replace('/', 'par') # remplacer les \"/\" par \"par \"\n",
    "    # Remplacer les espaces dans les nombres par \"rien\"\n",
    "    description = re.sub(r'(?<=\\d) (?=\\d)', '', description)\n",
    "    description = re.sub(r'(?<=\\d)[\\s\\u202f\\xa0](?=\\d)', '', description)\n",
    "    # Normaliser le texte\n",
    "    description = unidecode.unidecode(description.lower())\n",
    "    start_pos = 0  # Position de départ pour la recherche\n",
    "    salary = None\n",
    "    category = None\n",
    "    \n",
    "    while start_pos < len(description):\n",
    "        # Identifier le mot 'salaire' ou 'rémunération'\n",
    "        match = re.search(r'\\b(salaire|remuneration)\\b', description[start_pos:])\n",
    "        if not match:\n",
    "            break  # Pas de mention de salaire/rémunération restante dans le texte\n",
    "        \n",
    "        # Position de fin du mot clé trouvé\n",
    "        match_end = start_pos + match.end()\n",
    "        \n",
    "        remaining_text = description[match_end:match_end + 110]  # On cherche plus large pour vérifier\n",
    "        # Trouver le premier \".\" non suivi d'un chiffre\n",
    "        valid_stop_dot = re.search(r'\\.(?!\\d)', remaining_text)\n",
    "        # Trouver le premier double espace \"  \"\n",
    "        valid_stop_space = re.search(r'  ', remaining_text)\n",
    "\n",
    "        stop_pos_dot = valid_stop_dot.start() if valid_stop_dot else len(remaining_text)\n",
    "        stop_pos_space = valid_stop_space.start() if valid_stop_space else len(remaining_text)\n",
    "\n",
    "        # Prendre le minimum entre 110, le point valide, et le double espace\n",
    "        stop_pos = min(110, stop_pos_dot, stop_pos_space)\n",
    "        context = remaining_text[:stop_pos]\n",
    "                \n",
    "        # Parcourir les mots du contexte pour détecter le premier montant et la première catégorie\n",
    "        words = context.split()\n",
    "        for i in range(len(words) - 1):\n",
    "            # Vérification des catégories avec deux mots consécutifs\n",
    "            two_words = f\"{words[i]} {words[i+1]}\"\n",
    "            if re.search(r'\\b(par[\\s]*an|par[\\s]*ans|annuel|annuels|annuelle|annuelles)\\b', two_words):\n",
    "                category = \"annuel\"\n",
    "            elif re.search(r'\\b(mensuel|mensuels|mensuelle|mensuelles|par[\\s]*mois)\\b', two_words):\n",
    "                category = \"mensuel\"\n",
    "            elif re.search(r'\\b(horaire|horaires|par[\\s]*heure|par[\\s]*heures)\\b', two_words):\n",
    "                category = \"horaire\"\n",
    "            \n",
    "            # Chercher le montant avec EUR ou euro\n",
    "            if salary is None:\n",
    "                amount_match = re.match(r'(\\d+(?:\\.\\d+)?)(?:\\s*(k|eur|euro|euros|keur|keuros|keuro)\\b)', two_words)\n",
    "                if amount_match:\n",
    "                    salary = float(amount_match.group(1))\n",
    "                    if amount_match.group(2) and amount_match.group(2).lower() in ('k', 'keur', 'keuros', 'keuro'):\n",
    "                        if salary < 500:\n",
    "                            salary *= 1000 \n",
    "                            category = \"annuel\"\n",
    "                            break\n",
    "                        else:\n",
    "                            category = \"annuel\"\n",
    "                            break\n",
    "            \n",
    "            # Si on a trouvé le montant et la catégorie, on peut arrêter\n",
    "            if salary is not None and category is not None:\n",
    "                break\n",
    "        \n",
    "        # Si montant et catégorie trouvés, et valeur crédible on arrête. \n",
    "        if salary is not None and category is not None:\n",
    "            if category == 'mensuel' and salary * 12 > 5000:\n",
    "                break\n",
    "            if category == 'horaire' and salary * 35 * 52 > 9*35*52:\n",
    "                break\n",
    "            if salary > 5000:\n",
    "                break\n",
    "        \n",
    "        # Déplacer la position de départ pour continuer la recherche\n",
    "        salary = None\n",
    "        category = None\n",
    "        start_pos = match_end\n",
    "    \n",
    "    if salary is None or category is None:\n",
    "        return None  # Montant ou catégorie non trouvé\n",
    "    \n",
    "    # Convertir le salaire en base annuelle si nécessaire\n",
    "    if category == \"mensuel\":\n",
    "        salary *= 12\n",
    "    elif category == \"horaire\":\n",
    "        salary *= 35 * 52\n",
    "    \n",
    "    return round(salary)  # Arrondir le salaire\n",
    "\n",
    "def add_salary_df(df):\n",
    "    # Créer un masque pour les lignes où 'salaire_annuel' est NaN\n",
    "    mask = df[\"salaire_annuel\"].isna()\n",
    "    \n",
    "    # Appliquer la fonction add_salary uniquement sur les lignes correspondantes\n",
    "    df.loc[mask, \"salaire_annuel\"] = df.loc[mask, \"description\"].apply(add_salary)\n",
    "    \n",
    "    # Retourner le DataFrame mis à jour\n",
    "    return df\n"
   ]
  },
  {
   "cell_type": "code",
   "execution_count": 9,
   "metadata": {},
   "outputs": [
    {
     "name": "stdout",
     "output_type": "stream",
     "text": [
      "Pourcentage de NaN avant : 56.51%\n",
      "Pourcentage de NaN après : 52.99%\n"
     ]
    }
   ],
   "source": [
    "\n",
    "percent_nan_before = df['salaire_annuel'].isna().mean() * 100\n",
    "df = add_salary_df(df)\n",
    "percent_nan_after = df['salaire_annuel'].isna().mean() * 100\n",
    "\n",
    "print(f\"Pourcentage de NaN avant : {percent_nan_before:.2f}%\")\n",
    "print(f\"Pourcentage de NaN après : {percent_nan_after:.2f}%\")\n"
   ]
  },
  {
   "cell_type": "markdown",
   "metadata": {},
   "source": [
    "On observe qu'on gagne 4% de salaires qu'on aurait pas eu de base mais grace a la lecture de la description on peut l'observer, cela ne parait pas enorme, mais quand on a 40 000 lignes, cela fait autour de 2000 lignes de data supplémentaires"
   ]
  },
  {
   "cell_type": "markdown",
   "metadata": {},
   "source": [
    "## Pour temps plein ou partiel"
   ]
  },
  {
   "cell_type": "code",
   "execution_count": 10,
   "metadata": {},
   "outputs": [],
   "source": [
    "def add_tps_Pp(description):\n",
    "    description = unidecode.unidecode(description.lower())\n",
    "    # Regex pour matcher toutes les variantes\n",
    "    if re.search(r\"temps\\s*pleins?\", description):\n",
    "        return 1\n",
    "    elif re.search(r\"temps\\s*partiels?\", description):\n",
    "        return 0\n",
    "    return np.nan\n",
    "\n",
    "\n",
    "def add_tps_Pp_df(df):\n",
    "    mask = df[\"tps_Pp\"].isna()\n",
    "    df.loc[mask, \"tps_Pp\"] = df.loc[mask, \"description\"].apply(add_tps_Pp)\n",
    "    return df"
   ]
  },
  {
   "cell_type": "code",
   "execution_count": 11,
   "metadata": {},
   "outputs": [
    {
     "name": "stdout",
     "output_type": "stream",
     "text": [
      "Pourcentage de NaN avant : 47.56%\n",
      "Pourcentage de NaN après : 42.09%\n"
     ]
    }
   ],
   "source": [
    "percent_nan_before = df['tps_Pp'].isna().mean() * 100\n",
    "df = add_tps_Pp_df(df)\n",
    "\n",
    "percent_nan_after = df['tps_Pp'].isna().mean() * 100\n",
    "\n",
    "print(f\"Pourcentage de NaN avant : {percent_nan_before:.2f}%\")\n",
    "print(f\"Pourcentage de NaN après : {percent_nan_after:.2f}%\")\n"
   ]
  },
  {
   "cell_type": "markdown",
   "metadata": {},
   "source": [
    "Ici, on gagne 5% de données"
   ]
  },
  {
   "cell_type": "markdown",
   "metadata": {},
   "source": [
    "## Pour le niveau d'éducation requis"
   ]
  },
  {
   "cell_type": "code",
   "execution_count": 12,
   "metadata": {},
   "outputs": [],
   "source": [
    "def add_education(description):\n",
    "    description = unidecode.unidecode(description.lower())\n",
    "    if re.search(r\"\\baucune\\b\", description):  \n",
    "        return 0\n",
    "    elif re.search(r\"\\b4eme\\b\", description):  \n",
    "        return 1\n",
    "    elif re.search(r\"\\b(3[\\s]*eme|brevet)\\b\", description):  \n",
    "        return 2\n",
    "    elif re.search(r\"\\b(cap|bep)\\b\", description):  \n",
    "        return 3\n",
    "    elif re.search(r\"\\b(bac|baccalaureat)\\b(?!\\s*\\+)\", description):  \n",
    "        return 4\n",
    "    elif re.search(r\"\\b(bac[\\s]*\\+[\\s]*2|licence [\\s]*2)\\b\", description):  \n",
    "        return 5\n",
    "    elif re.search(r\"\\b(bac[\\s]*\\+[\\s]*3|licence|licenses)\\b\", description):  \n",
    "        return 6\n",
    "    elif re.search(r\"\\b(bac[\\s]*\\+[\\s]*4|master[\\s]*1)\\b\", description):  \n",
    "        return 7\n",
    "    elif re.search(r\"\\b(master|master[\\s]*2|bac[\\s]*\\+[\\s]*5)\\b\", description):  \n",
    "        return 8\n",
    "    return None\n",
    "\n",
    "def add_education_df(df):\n",
    "    mask = df[\"etude_requise\"].isna()\n",
    "    df.loc[mask, \"etude_requise\"] = df.loc[mask, \"description\"].apply(add_education)\n",
    "    return df\n",
    "    "
   ]
  },
  {
   "cell_type": "code",
   "execution_count": 13,
   "metadata": {},
   "outputs": [
    {
     "name": "stdout",
     "output_type": "stream",
     "text": [
      "Pourcentage de NaN avant : 76.14%\n",
      "Pourcentage de NaN après : 52.79%\n"
     ]
    }
   ],
   "source": [
    "# Pourcentage de NaN avant\n",
    "percent_nan_before = df['etude_requise'].isna().mean() * 100\n",
    "\n",
    "# Appliquer la fonction\n",
    "df = add_education_df(df)\n",
    "\n",
    "# Pourcentage de NaN après\n",
    "percent_nan_after = df['etude_requise'].isna().mean() * 100\n",
    "\n",
    "print(f\"Pourcentage de NaN avant : {percent_nan_before:.2f}%\")\n",
    "print(f\"Pourcentage de NaN après : {percent_nan_after:.2f}%\")\n"
   ]
  },
  {
   "cell_type": "markdown",
   "metadata": {},
   "source": [
    "## Pour le temps d'expérience nécessaire"
   ]
  },
  {
   "cell_type": "code",
   "execution_count": 14,
   "metadata": {},
   "outputs": [],
   "source": [
    "def add_experience(description):\n",
    "    # Normalisation de la description\n",
    "    description = unidecode.unidecode(description.lower())\n",
    "\n",
    "    start_pos = 0  # Position de départ pour la recherche\n",
    "    experience = None\n",
    "    while start_pos < len(description):\n",
    "        # Identifier le mot 'experience'\n",
    "        match = re.search(r'\\bexperience\\b', description[start_pos:])\n",
    "        if not match:\n",
    "            break  # Pas de mention d'expérience restante dans le texte\n",
    "\n",
    "        # Position de fin du mot clé trouvé\n",
    "        match_end = start_pos + match.end()\n",
    "\n",
    "        # Prendre le contexte autour du mot clé\n",
    "        context_start = max(0, match.start() - 15)  # S'assurer que le début est >= 0\n",
    "        context_end = match_end + 70\n",
    "        context = description[context_start:context_end]\n",
    "        # Vérifier si \"premiere experience\" est mentionné\n",
    "        if \"premiere experience\" in context:\n",
    "            experience = 6  # Retourner 6 mois\n",
    "            return experience\n",
    "\n",
    "        # Vérifier la présence d'un nombre suivi de \"ans\" ou \"an\"\n",
    "        match_years = re.search(r'(\\d+)\\s*(ans|an)', context)\n",
    "        if match_years:\n",
    "            experience = int(match_years.group(1)) * 12  # Convertir en mois\n",
    "            return experience\n",
    "\n",
    "        # Déplacer la position de départ pour continuer la recherche\n",
    "        start_pos = match_end\n",
    "\n",
    "    return np.nan # Retourne l'expérience trouvée ou None si non trouvé\n",
    "\n",
    "def add_experience_df(df):\n",
    "    mask = df[\"experience_requise\"].isna()\n",
    "    df.loc[mask, \"experience_requise\"] = df.loc[mask, \"description\"].apply(add_experience)\n",
    "    return df\n"
   ]
  },
  {
   "cell_type": "code",
   "execution_count": 15,
   "metadata": {},
   "outputs": [
    {
     "name": "stdout",
     "output_type": "stream",
     "text": [
      "Pourcentage de NaN avant : 9.65%\n",
      "Pourcentage de NaN après : 4.70%\n"
     ]
    }
   ],
   "source": [
    "percent_nan_before = df['experience_requise'].isna().mean() * 100\n",
    "\n",
    "df = add_experience_df(df)\n",
    "\n",
    "percent_nan_after = df['experience_requise'].isna().mean() * 100\n",
    "\n",
    "print(f\"Pourcentage de NaN avant : {percent_nan_before:.2f}%\")\n",
    "print(f\"Pourcentage de NaN après : {percent_nan_after:.2f}%\")"
   ]
  },
  {
   "cell_type": "markdown",
   "metadata": {},
   "source": [
    "# On va enfin enlever arbitrairement les lignes où le salaire est supérieur a 300 000."
   ]
  },
  {
   "cell_type": "code",
   "execution_count": 16,
   "metadata": {},
   "outputs": [],
   "source": [
    "df = df[(df['salaire_annuel'].isna()) | (df['salaire_annuel'].between(4000, 300000))]"
   ]
  },
  {
   "cell_type": "markdown",
   "metadata": {},
   "source": [
    "# Enfin on va exporter les colonnes qui nous interesse :"
   ]
  },
  {
   "cell_type": "code",
   "execution_count": 21,
   "metadata": {},
   "outputs": [],
   "source": [
    "df = df[['intitule', 'source', 'departement', 'salaire_annuel',\n",
    "         'etude_requise', 'experience_requise', 'contrat', 'romeCode_extract',\n",
    "         'tps_Pp', 'secteur_activite', 'qualificationCode']]\n",
    "\n",
    "df.to_csv('offres_emploi_concatene_cleaned.csv', index=False)"
   ]
  }
 ],
 "metadata": {
  "kernelspec": {
   "display_name": "Python 3",
   "language": "python",
   "name": "python3"
  },
  "language_info": {
   "codemirror_mode": {
    "name": "ipython",
    "version": 3
   },
   "file_extension": ".py",
   "mimetype": "text/x-python",
   "name": "python",
   "nbconvert_exporter": "python",
   "pygments_lexer": "ipython3",
   "version": "3.13.1"
  }
 },
 "nbformat": 4,
 "nbformat_minor": 2
}
