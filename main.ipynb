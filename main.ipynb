{
 "cells": [
  {
   "cell_type": "code",
   "execution_count": 8,
   "metadata": {},
   "outputs": [
    {
     "name": "stdout",
     "output_type": "stream",
     "text": [
      "Notebook exécuté et sauvegardé : resultat\\fill_data.ipynb\n",
      "Notebook exécuté et sauvegardé : resultat\\stats.ipynb\n",
      "Notebook exécuté et sauvegardé : resultat\\econometrie.ipynb\n",
      "Notebook exécuté et sauvegardé : resultat\\xgboost.ipynb\n",
      "Tous les notebooks ont été exécutés et sauvegardés dans le dossier 'resultat'.\n"
     ]
    }
   ],
   "source": [
    "import os\n",
    "from nbconvert.preprocessors import ExecutePreprocessor\n",
    "import nbformat\n",
    "\n",
    "# Liste des notebooks à exécuter\n",
    "notebooks = [\n",
    "    \"Recuperation_data/France_Travail/fill_data.ipynb\", #Prend pas mal de temps a tourner (autour de 2 min)\n",
    "    \"Statistique/stats.ipynb\",\n",
    "    \"Prediction/Econometrie/econometrie.ipynb\",\n",
    "    \"Prediction/XGBoost/xgboost.ipynb\"\n",
    "]\n",
    "\n",
    "# Dossier pour stocker les résultats\n",
    "result_folder = \"resultat\"\n",
    "os.makedirs(result_folder, exist_ok=True)\n",
    "\n",
    "def execute_and_save_notebook(notebook_path, output_dir):\n",
    "    \"\"\"\n",
    "    Exécute un notebook Jupyter et sauvegarde le résultat dans un nouveau fichier.\n",
    "    \"\"\"\n",
    "    try:\n",
    "        # Charger le notebook\n",
    "        with open(notebook_path, encoding=\"utf-8\") as f:\n",
    "            nb = nbformat.read(f, as_version=4)\n",
    "\n",
    "        # Exécuter le notebook\n",
    "        ep = ExecutePreprocessor(timeout=600, kernel_name=\"python3\")\n",
    "        ep.preprocess(nb, {'metadata': {'path': os.path.dirname(notebook_path)}})\n",
    "\n",
    "        # Sauvegarder le notebook exécuté\n",
    "        output_path = os.path.join(output_dir, os.path.basename(notebook_path))\n",
    "        with open(output_path, \"w\", encoding=\"utf-8\") as f:\n",
    "            nbformat.write(nb, f)\n",
    "        print(f\"Notebook exécuté et sauvegardé : {output_path}\")\n",
    "    except Exception as e:\n",
    "        print(f\"Erreur lors de l'exécution de {notebook_path} : {e}\")\n",
    "\n",
    "# Exécuter chaque notebook et sauvegarder les résultats\n",
    "for notebook in notebooks:\n",
    "    execute_and_save_notebook(notebook, result_folder)\n",
    "\n",
    "print(f\"Tous les notebooks ont été exécutés et sauvegardés dans le dossier '{result_folder}'.\")\n"
   ]
  }
 ],
 "metadata": {
  "kernelspec": {
   "display_name": "Python 3",
   "language": "python",
   "name": "python3"
  },
  "language_info": {
   "codemirror_mode": {
    "name": "ipython",
    "version": 3
   },
   "file_extension": ".py",
   "mimetype": "text/x-python",
   "name": "python",
   "nbconvert_exporter": "python",
   "pygments_lexer": "ipython3",
   "version": "3.13.1"
  }
 },
 "nbformat": 4,
 "nbformat_minor": 2
}
