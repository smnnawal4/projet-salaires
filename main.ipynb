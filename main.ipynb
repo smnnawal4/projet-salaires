{
 "cells": [
  {
   "cell_type": "code",
   "execution_count": 4,
   "metadata": {},
   "outputs": [
    {
     "name": "stdout",
     "output_type": "stream",
     "text": [
      "Répertoire de base : c:\\Users\\User\\projet-salaires\n",
      "Exécution de c:\\Users\\User\\projet-salaires\\Statistique/stats.ipynb...\n",
      "Terminé : Statistique/stats.ipynb\n",
      "Exécution de c:\\Users\\User\\projet-salaires\\Prediction/Econometrie/econometrie.ipynb...\n",
      "Terminé : Prediction/Econometrie/econometrie.ipynb\n",
      "Exécution de c:\\Users\\User\\projet-salaires\\Prediction/XGBoost/xgboost.ipynb...\n",
      "Terminé : Prediction/XGBoost/xgboost.ipynb\n",
      "L'exécution de stats.ipynb est terminée avec succès !\n"
     ]
    }
   ],
   "source": [
    "# Introduction\n",
    "\"\"\"\n",
    "# Projet Salaires : Exécution des statistiques\n",
    "Ce notebook exécute uniquement `Statistique/stats.ipynb` pour générer les analyses statistiques descriptives.\n",
    "\"\"\"\n",
    "\n",
    "import os\n",
    "from nbconvert.preprocessors import ExecutePreprocessor\n",
    "import nbformat\n",
    "\n",
    "# Définir le répertoire de base comme étant le répertoire courant (spécifique pour Jupyter)\n",
    "base_dir = os.getcwd()  # Chemin actuel du notebook\n",
    "print(f\"Répertoire de base : {base_dir}\")\n",
    "\n",
    "# Fonction pour exécuter un notebook\n",
    "def run_notebook(notebook_path):\n",
    "    \"\"\"\n",
    "    Exécute un notebook Jupyter donné.\n",
    "    \"\"\"\n",
    "    try:\n",
    "        # Construire le chemin complet\n",
    "        full_path = os.path.join(base_dir, notebook_path)\n",
    "        print(f\"Exécution de {full_path}...\")\n",
    "\n",
    "        # Vérification de l'existence du fichier\n",
    "        if not os.path.exists(full_path):\n",
    "            raise FileNotFoundError(f\"Notebook introuvable : {full_path}\")\n",
    "\n",
    "        # Lecture et exécution du notebook\n",
    "        with open(full_path, encoding='utf-8') as f:\n",
    "            nb = nbformat.read(f, as_version=4)\n",
    "        ep = ExecutePreprocessor(timeout=600, kernel_name='python3')\n",
    "        ep.preprocess(nb, {'metadata': {'path': os.path.dirname(full_path)}})\n",
    "        print(f\"Terminé : {notebook_path}\")\n",
    "    except Exception as e:\n",
    "        print(f\"Erreur lors de l'exécution de {notebook_path} : {e}\")\n",
    "\n",
    "# Exécution de stats.ipynb\n",
    "run_notebook(\"Statistique/stats.ipynb\")\n",
    "run_notebook(\"Prediction/Econometrie/econometrie.ipynb\")\n",
    "run_notebook(\"Prediction/XGBoost/xgboost.ipynb\")\n",
    "\n",
    "# Conclusion\n",
    "print(\"L'exécution de stats.ipynb est terminée avec succès !\")\n"
   ]
  }
 ],
 "metadata": {
  "kernelspec": {
   "display_name": "Python 3",
   "language": "python",
   "name": "python3"
  },
  "language_info": {
   "codemirror_mode": {
    "name": "ipython",
    "version": 3
   },
   "file_extension": ".py",
   "mimetype": "text/x-python",
   "name": "python",
   "nbconvert_exporter": "python",
   "pygments_lexer": "ipython3",
   "version": "3.13.1"
  }
 },
 "nbformat": 4,
 "nbformat_minor": 2
}
