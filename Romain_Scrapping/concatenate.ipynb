{
 "cells": [
  {
   "cell_type": "code",
   "execution_count": 3,
   "metadata": {},
   "outputs": [
    {
     "name": "stderr",
     "output_type": "stream",
     "text": [
      "<>:23: SyntaxWarning: invalid escape sequence '\\o'\n",
      "<>:24: SyntaxWarning: invalid escape sequence '\\o'\n",
      "<>:23: SyntaxWarning: invalid escape sequence '\\o'\n",
      "<>:24: SyntaxWarning: invalid escape sequence '\\o'\n",
      "C:\\Users\\User\\AppData\\Local\\Temp\\ipykernel_15316\\3214167408.py:23: SyntaxWarning: invalid escape sequence '\\o'\n",
      "  file_path = f\"raw_json_file\\offres_emploi_{nom_categorie[i]}.json\"\n",
      "C:\\Users\\User\\AppData\\Local\\Temp\\ipykernel_15316\\3214167408.py:24: SyntaxWarning: invalid escape sequence '\\o'\n",
      "  output_file = f\"extracted_csv_file\\offres_emploi_{nom_categorie[i]}.csv\"\n"
     ]
    },
    {
     "name": "stdout",
     "output_type": "stream",
     "text": [
      "Les données ont été extraites et sauvegardées dans 'extracted_csv_file\\offres_emploi_Informatique.csv'\n",
      "Les données ont été extraites et sauvegardées dans 'extracted_csv_file\\offres_emploi_Data.csv'\n",
      "Les données ont été extraites et sauvegardées dans 'extracted_csv_file\\offres_emploi_Marketing.csv'\n",
      "Les données ont été extraites et sauvegardées dans 'extracted_csv_file\\offres_emploi_Vente.csv'\n",
      "Les données ont été extraites et sauvegardées dans 'extracted_csv_file\\offres_emploi_Ressources_Humaines.csv'\n",
      "Les données ont été extraites et sauvegardées dans 'extracted_csv_file\\offres_emploi_Finance.csv'\n",
      "Les données ont été extraites et sauvegardées dans 'extracted_csv_file\\offres_emploi_Juridique.csv'\n",
      "Les données ont été extraites et sauvegardées dans 'extracted_csv_file\\offres_emploi_Ingenierie.csv'\n",
      "Les données ont été extraites et sauvegardées dans 'extracted_csv_file\\offres_emploi_Conseil.csv'\n",
      "Les données ont été extraites et sauvegardées dans 'extracted_csv_file\\offres_emploi_Education.csv'\n",
      "Les données ont été extraites et sauvegardées dans 'extracted_csv_file\\offres_emploi_Sante.csv'\n",
      "Les données ont été extraites et sauvegardées dans 'extracted_csv_file\\offres_emploi_Hotellerie.csv'\n",
      "Les données ont été extraites et sauvegardées dans 'extracted_csv_file\\offres_emploi_Media.csv'\n",
      "Les données ont été extraites et sauvegardées dans 'extracted_csv_file\\offres_emploi_Immobilier.csv'\n",
      "Les données ont été extraites et sauvegardées dans 'extracted_csv_file\\offres_emploi_E-commerce.csv'\n",
      "Les données ont été extraites et sauvegardées dans 'extracted_csv_file\\offres_emploi_Environnement.csv'\n",
      "Les données ont été extraites et sauvegardées dans 'extracted_csv_file\\offres_emploi_Agriculture.csv'\n",
      "Les données ont été extraites et sauvegardées dans 'extracted_csv_file\\offres_emploi_Transport.csv'\n"
     ]
    }
   ],
   "source": [
    "import json\n",
    "import csv\n",
    "\n",
    "fields_to_extract = [\n",
    "    \"intitule\",\n",
    "    \"lieuTravail.libelle\",\n",
    "    \"lieuTravail.codePostal\",\n",
    "    \"romeCode\",\n",
    "    \"typeContrat\",\n",
    "    \"salaire.libelle\",\n",
    "    \"dureeTravailLibelleConverti\",\n",
    "    \"experienceLibelle\",\n",
    "    \"formations.niveauLibelle\",\n",
    "    \"description\"\n",
    "]\n",
    "\n",
    "nom_categorie = ['Informatique', 'Data', 'Marketing', 'Vente', 'Ressources_Humaines',\n",
    "                 'Finance', 'Juridique', 'Ingenierie', 'Conseil', 'Education', 'Sante',\n",
    "                 'Hotellerie', 'Media', 'Immobilier',\n",
    "                 'E-commerce', 'Environnement', 'Agriculture', 'Transport']\n",
    "\n",
    "for i in range(len(nom_categorie)):\n",
    "    file_path = f\"raw_json_file\\offres_emploi_{nom_categorie[i]}.json\"\n",
    "    output_file = f\"extracted_csv_file\\offres_emploi_{nom_categorie[i]}.csv\"\n",
    "\n",
    "    csv_data = []\n",
    "    with open(file_path, \"r\", encoding=\"utf-8\") as json_file:\n",
    "        offres = json.load(json_file)\n",
    "        for offre in offres:\n",
    "            row = {}\n",
    "            row[\"intitule\"] = offre.get(\"intitule\", \"N/A\")\n",
    "            row[\"lieuTravail.libelle\"] = offre.get(\"lieuTravail\", {}).get(\"libelle\", \"N/A\")\n",
    "            row[\"lieuTravail.codePostal\"] = offre.get(\"lieuTravail\", {}).get(\"codePostal\", \"N/A\")\n",
    "            row[\"romeCode\"] = offre.get(\"romeCode\", \"N/A\")\n",
    "            row[\"typeContrat\"] = offre.get(\"typeContrat\", \"N/A\")\n",
    "            row[\"salaire.libelle\"] = offre.get(\"salaire\", {}).get(\"libelle\", \"N/A\")\n",
    "            row[\"dureeTravailLibelleConverti\"] = offre.get(\"dureeTravailLibelleConverti\", \"N/A\")\n",
    "            row[\"description\"] = offre.get(\"description\", \"N/A\").replace(\"\\n\", \" \").replace(\"\\r\", \" \")  # Nettoyage des sauts de ligne\n",
    "            row[\"experienceLibelle\"] = offre.get(\"experienceLibelle\", \"N/A\")\n",
    "            row[\"formations.niveauLibelle\"] = (\n",
    "    offre.get(\"formations\", [{}])[0].get(\"niveauLibelle\", \"N/A\")\n",
    "    if isinstance(offre.get(\"formations\"), list) and offre.get(\"formations\")\n",
    "    else \"N/A\"\n",
    ")\n",
    "\n",
    "\n",
    "            csv_data.append(row)\n",
    "\n",
    "    # Écriture dans le CSV avec gestion des quotes\n",
    "    with open(output_file, \"w\", newline=\"\", encoding=\"utf-8\") as csvfile:\n",
    "        writer = csv.DictWriter(csvfile, fieldnames=fields_to_extract, quoting=csv.QUOTE_ALL)\n",
    "        writer.writeheader()\n",
    "        writer.writerows(csv_data)\n",
    "\n",
    "    print(f\"Les données ont été extraites et sauvegardées dans '{output_file}'\")"
   ]
  }
 ],
 "metadata": {
  "kernelspec": {
   "display_name": "Python 3",
   "language": "python",
   "name": "python3"
  },
  "language_info": {
   "codemirror_mode": {
    "name": "ipython",
    "version": 3
   },
   "file_extension": ".py",
   "mimetype": "text/x-python",
   "name": "python",
   "nbconvert_exporter": "python",
   "pygments_lexer": "ipython3",
   "version": "3.13.1"
  }
 },
 "nbformat": 4,
 "nbformat_minor": 2
}
